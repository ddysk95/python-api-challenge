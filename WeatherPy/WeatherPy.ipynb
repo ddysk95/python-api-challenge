{
 "cells": [
  {
   "cell_type": "markdown",
   "metadata": {},
   "source": [
    "# WeatherPy\n",
    "----\n",
    "\n",
    "#### Note\n",
    "* Instructions have been included for each segment. You do not have to follow them exactly, but they are included to help you think through the steps."
   ]
  },
  {
   "cell_type": "code",
   "execution_count": 1,
   "metadata": {
    "scrolled": true
   },
   "outputs": [],
   "source": [
    "# Dependencies and Setup\n",
    "import matplotlib.pyplot as plt\n",
    "import pandas as pd\n",
    "import numpy as np\n",
    "import requests\n",
    "import json\n",
    "import time\n",
    "from scipy.stats import linregress\n",
    "\n",
    "# Import API key\n",
    "from api_keys import weather_api_key\n",
    "\n",
    "# Incorporated citipy to determine city based on latitude and longitude\n",
    "from citipy import citipy\n",
    "\n",
    "# Output File (CSV)\n",
    "output_data_file = \"output_data/cities.csv\"\n",
    "\n",
    "# Range of latitudes and longitudes\n",
    "lat_range = (-90, 90)\n",
    "lng_range = (-180, 180)"
   ]
  },
  {
   "cell_type": "markdown",
   "metadata": {},
   "source": [
    "## Generate Cities List"
   ]
  },
  {
   "cell_type": "code",
   "execution_count": 2,
   "metadata": {},
   "outputs": [
    {
     "data": {
      "text/plain": [
       "623"
      ]
     },
     "execution_count": 2,
     "metadata": {},
     "output_type": "execute_result"
    }
   ],
   "source": [
    "# List for holding lat_lngs and cities\n",
    "lat_lngs = []\n",
    "cities = []\n",
    "\n",
    "# Create a set of random lat and lng combinations\n",
    "lats = np.random.uniform(lat_range[0], lat_range[1], size=1500)\n",
    "lngs = np.random.uniform(lng_range[0], lng_range[1], size=1500)\n",
    "lat_lngs = zip(lats, lngs)\n",
    "\n",
    "# Identify nearest city for each lat, lng combination\n",
    "for lat_lng in lat_lngs:\n",
    "    city = citipy.nearest_city(lat_lng[0], lat_lng[1]).city_name\n",
    "    \n",
    "    # If the city is unique, then add it to a our cities list\n",
    "    if city not in cities:\n",
    "        cities.append(city)\n",
    "\n",
    "# Print the city count to confirm sufficient count\n",
    "len(cities)"
   ]
  },
  {
   "cell_type": "markdown",
   "metadata": {},
   "source": [
    "### Perform API Calls\n",
    "* Perform a weather check on each city using a series of successive API calls.\n",
    "* Include a print log of each city as it'sbeing processed (with the city number and city name).\n",
    "\n",
    "> **HINT:** The OpenWeatherMap API only allows 60 calls per minute under their free plan. Try using `time.sleep(60)` after each set of 50 cities to avoid API errors due to large calls."
   ]
  },
  {
   "cell_type": "code",
   "execution_count": 3,
   "metadata": {},
   "outputs": [],
   "source": [
    "#url from weathermap\n",
    "url=\"http://api.openweathermap.org/data/2.5/weather?\"\n",
    "\n",
    "\n",
    "# Build partial query URL\n",
    "query_url = f\"{url}appid={weather_api_key}&units=imperial&q=\""
   ]
  },
  {
   "cell_type": "code",
   "execution_count": 4,
   "metadata": {},
   "outputs": [
    {
     "name": "stdout",
     "output_type": "stream",
     "text": [
      "Beginning Data Retrieval\n",
      "-----------------------\n",
      "City not found. Skipping...\n",
      "City not found. Skipping...\n",
      "Processing Record 1 of Set 1 | cockburn town\n",
      "Processing Record 2 of Set 1 | ucluelet\n",
      "Processing Record 3 of Set 1 | dingle\n",
      "Processing Record 4 of Set 1 | casa nova\n",
      "Processing Record 5 of Set 1 | terrace\n",
      "City not found. Skipping...\n",
      "Processing Record 6 of Set 1 | rikitea\n",
      "Processing Record 7 of Set 1 | bluff\n",
      "Processing Record 8 of Set 1 | kodiak\n",
      "Processing Record 9 of Set 1 | hobart\n",
      "Processing Record 10 of Set 1 | sada\n",
      "Processing Record 11 of Set 1 | upernavik\n",
      "Processing Record 12 of Set 1 | luderitz\n",
      "Processing Record 13 of Set 1 | georgetown\n",
      "Processing Record 14 of Set 1 | cidreira\n",
      "Processing Record 15 of Set 1 | hata\n",
      "Processing Record 16 of Set 1 | mataura\n",
      "Processing Record 17 of Set 1 | puerto leguizamo\n",
      "Processing Record 18 of Set 1 | nishihara\n",
      "Processing Record 19 of Set 1 | ushuaia\n",
      "Processing Record 20 of Set 1 | severodvinsk\n",
      "City not found. Skipping...\n",
      "Processing Record 21 of Set 1 | kholm\n",
      "Processing Record 22 of Set 1 | tautira\n",
      "Processing Record 23 of Set 1 | hunterville\n",
      "Processing Record 24 of Set 1 | ancud\n",
      "Processing Record 25 of Set 1 | ostrovnoy\n",
      "City not found. Skipping...\n",
      "Processing Record 26 of Set 1 | mazyr\n",
      "Processing Record 27 of Set 1 | staryy nadym\n",
      "Processing Record 28 of Set 1 | vanimo\n",
      "Processing Record 29 of Set 1 | arraial do cabo\n",
      "Processing Record 30 of Set 1 | toppenish\n",
      "Processing Record 31 of Set 1 | hithadhoo\n",
      "City not found. Skipping...\n",
      "Processing Record 32 of Set 1 | busselton\n",
      "Processing Record 33 of Set 1 | cape town\n",
      "Processing Record 34 of Set 1 | bredasdorp\n",
      "Processing Record 35 of Set 1 | nikolskoye\n",
      "Processing Record 36 of Set 1 | ahipara\n",
      "Processing Record 37 of Set 1 | barrow\n",
      "Processing Record 38 of Set 1 | qaanaaq\n",
      "Processing Record 39 of Set 1 | kruisfontein\n",
      "City not found. Skipping...\n",
      "Processing Record 40 of Set 1 | quatre cocos\n",
      "Processing Record 41 of Set 1 | smithers\n",
      "Processing Record 42 of Set 1 | kapaa\n",
      "Processing Record 43 of Set 1 | atuona\n",
      "Processing Record 44 of Set 1 | jamestown\n",
      "Processing Record 45 of Set 1 | papara\n",
      "Processing Record 46 of Set 1 | muros\n",
      "Processing Record 47 of Set 1 | lebu\n",
      "Processing Record 48 of Set 1 | kaitangata\n",
      "Processing Record 49 of Set 1 | salalah\n",
      "Processing Record 50 of Set 1 | tuktoyaktuk\n",
      "Processing Record 1 of Set 2 | elizabeth city\n",
      "City not found. Skipping...\n",
      "Processing Record 2 of Set 2 | codrington\n",
      "Processing Record 3 of Set 2 | watertown\n",
      "Processing Record 4 of Set 2 | maniitsoq\n",
      "Processing Record 5 of Set 2 | avarua\n",
      "Processing Record 6 of Set 2 | butaritari\n",
      "Processing Record 7 of Set 2 | cabo san lucas\n",
      "Processing Record 8 of Set 2 | ribeira grande\n",
      "Processing Record 9 of Set 2 | avera\n",
      "Processing Record 10 of Set 2 | moranbah\n",
      "City not found. Skipping...\n",
      "Processing Record 11 of Set 2 | povenets\n",
      "City not found. Skipping...\n",
      "Processing Record 12 of Set 2 | dikson\n",
      "Processing Record 13 of Set 2 | aklavik\n",
      "Processing Record 14 of Set 2 | puerto ayora\n",
      "Processing Record 15 of Set 2 | sibolga\n",
      "Processing Record 16 of Set 2 | vardo\n",
      "Processing Record 17 of Set 2 | nanortalik\n",
      "Processing Record 18 of Set 2 | san patricio\n",
      "Processing Record 19 of Set 2 | port elizabeth\n",
      "Processing Record 20 of Set 2 | hearst\n",
      "Processing Record 21 of Set 2 | potamia\n",
      "Processing Record 22 of Set 2 | okha\n",
      "City not found. Skipping...\n",
      "Processing Record 23 of Set 2 | klaksvik\n",
      "Processing Record 24 of Set 2 | luleburgaz\n",
      "Processing Record 25 of Set 2 | san felipe\n",
      "Processing Record 26 of Set 2 | abha\n",
      "Processing Record 27 of Set 2 | douglas\n",
      "Processing Record 28 of Set 2 | punta arenas\n",
      "Processing Record 29 of Set 2 | mar del plata\n",
      "Processing Record 30 of Set 2 | grand gaube\n",
      "Processing Record 31 of Set 2 | nome\n",
      "Processing Record 32 of Set 2 | lompoc\n",
      "Processing Record 33 of Set 2 | wattegama\n",
      "Processing Record 34 of Set 2 | camocim\n",
      "Processing Record 35 of Set 2 | puerto madryn\n",
      "Processing Record 36 of Set 2 | saquena\n",
      "Processing Record 37 of Set 2 | varkkallai\n",
      "Processing Record 38 of Set 2 | palauig\n",
      "Processing Record 39 of Set 2 | victoria\n",
      "Processing Record 40 of Set 2 | castro\n",
      "Processing Record 41 of Set 2 | yellowknife\n",
      "Processing Record 42 of Set 2 | marzuq\n",
      "Processing Record 43 of Set 2 | lawton\n",
      "Processing Record 44 of Set 2 | albany\n",
      "Processing Record 45 of Set 2 | hermanus\n",
      "Processing Record 46 of Set 2 | xining\n",
      "Processing Record 47 of Set 2 | saskylakh\n",
      "Processing Record 48 of Set 2 | strezhevoy\n",
      "Processing Record 49 of Set 2 | barrhead\n",
      "Processing Record 50 of Set 2 | geraldton\n",
      "Processing Record 1 of Set 3 | tasiilaq\n",
      "Processing Record 2 of Set 3 | ziro\n",
      "Processing Record 3 of Set 3 | beringovskiy\n",
      "Processing Record 4 of Set 3 | sun valley\n",
      "Processing Record 5 of Set 3 | tsaratanana\n",
      "Processing Record 6 of Set 3 | ponta do sol\n",
      "Processing Record 7 of Set 3 | camacha\n",
      "Processing Record 8 of Set 3 | east london\n",
      "Processing Record 9 of Set 3 | mandera\n",
      "Processing Record 10 of Set 3 | khani\n",
      "Processing Record 11 of Set 3 | lagoa\n",
      "Processing Record 12 of Set 3 | cherskiy\n",
      "City not found. Skipping...\n",
      "Processing Record 13 of Set 3 | provideniya\n",
      "Processing Record 14 of Set 3 | thompson\n",
      "Processing Record 15 of Set 3 | saint-philippe\n",
      "Processing Record 16 of Set 3 | sinnamary\n",
      "Processing Record 17 of Set 3 | new amsterdam\n",
      "Processing Record 18 of Set 3 | wakkanai\n",
      "Processing Record 19 of Set 3 | kuopio\n",
      "Processing Record 20 of Set 3 | hilo\n",
      "Processing Record 21 of Set 3 | shieli\n",
      "Processing Record 22 of Set 3 | esperance\n",
      "Processing Record 23 of Set 3 | christchurch\n",
      "Processing Record 24 of Set 3 | oussouye\n",
      "Processing Record 25 of Set 3 | new norfolk\n",
      "Processing Record 26 of Set 3 | hailey\n",
      "Processing Record 27 of Set 3 | san andres\n",
      "Processing Record 28 of Set 3 | husavik\n",
      "Processing Record 29 of Set 3 | ishigaki\n",
      "Processing Record 30 of Set 3 | omaruru\n",
      "Processing Record 31 of Set 3 | mahebourg\n",
      "Processing Record 32 of Set 3 | nouadhibou\n",
      "Processing Record 33 of Set 3 | kupang\n",
      "Processing Record 34 of Set 3 | katsuura\n",
      "Processing Record 35 of Set 3 | los llanos de aridane\n",
      "Processing Record 36 of Set 3 | kayerkan\n",
      "Processing Record 37 of Set 3 | koumac\n",
      "Processing Record 38 of Set 3 | sarny\n",
      "Processing Record 39 of Set 3 | juneau\n",
      "Processing Record 40 of Set 3 | buin\n",
      "Processing Record 41 of Set 3 | dicabisagan\n",
      "Processing Record 42 of Set 3 | bonavista\n",
      "Processing Record 43 of Set 3 | saint-pierre\n",
      "Processing Record 44 of Set 3 | vaini\n",
      "Processing Record 45 of Set 3 | severo-kurilsk\n",
      "City not found. Skipping...\n",
      "Processing Record 46 of Set 3 | byron bay\n",
      "City not found. Skipping...\n",
      "Processing Record 47 of Set 3 | vao\n",
      "Processing Record 48 of Set 3 | khatanga\n",
      "Processing Record 49 of Set 3 | san jose\n",
      "Processing Record 50 of Set 3 | saurimo\n",
      "Processing Record 1 of Set 4 | darnetal\n",
      "Processing Record 2 of Set 4 | san quintin\n",
      "Processing Record 3 of Set 4 | plainview\n",
      "Processing Record 4 of Set 4 | ingham\n",
      "Processing Record 5 of Set 4 | airai\n",
      "Processing Record 6 of Set 4 | coahuayana\n",
      "Processing Record 7 of Set 4 | yurginskoye\n",
      "Processing Record 8 of Set 4 | cedar mill\n",
      "Processing Record 9 of Set 4 | richards bay\n",
      "Processing Record 10 of Set 4 | susangerd\n",
      "Processing Record 11 of Set 4 | sucevita\n",
      "Processing Record 12 of Set 4 | longyearbyen\n",
      "Processing Record 13 of Set 4 | floro\n",
      "City not found. Skipping...\n",
      "Processing Record 14 of Set 4 | lorengau\n",
      "Processing Record 15 of Set 4 | vestmannaeyjar\n",
      "City not found. Skipping...\n",
      "Processing Record 16 of Set 4 | kaiyuan\n",
      "Processing Record 17 of Set 4 | puerto quijarro\n",
      "Processing Record 18 of Set 4 | shache\n",
      "Processing Record 19 of Set 4 | rio verde de mato grosso\n",
      "Processing Record 20 of Set 4 | waddan\n",
      "Processing Record 21 of Set 4 | elliot\n",
      "Processing Record 22 of Set 4 | bambanglipuro\n",
      "Processing Record 23 of Set 4 | merauke\n",
      "Processing Record 24 of Set 4 | kang\n",
      "City not found. Skipping...\n",
      "City not found. Skipping...\n",
      "Processing Record 25 of Set 4 | sao filipe\n",
      "Processing Record 26 of Set 4 | sioux lookout\n",
      "Processing Record 27 of Set 4 | chapais\n",
      "Processing Record 28 of Set 4 | hasaki\n",
      "Processing Record 29 of Set 4 | ola\n",
      "Processing Record 30 of Set 4 | tual\n",
      "Processing Record 31 of Set 4 | nkan\n",
      "Processing Record 32 of Set 4 | hluti\n",
      "Processing Record 33 of Set 4 | kumluca\n",
      "Processing Record 34 of Set 4 | sola\n",
      "Processing Record 35 of Set 4 | itarema\n",
      "Processing Record 36 of Set 4 | algeciras\n"
     ]
    },
    {
     "name": "stdout",
     "output_type": "stream",
     "text": [
      "Processing Record 37 of Set 4 | ohara\n",
      "Processing Record 38 of Set 4 | acajutla\n",
      "Processing Record 39 of Set 4 | bozhou\n",
      "Processing Record 40 of Set 4 | port alfred\n",
      "Processing Record 41 of Set 4 | port blair\n",
      "Processing Record 42 of Set 4 | guider\n",
      "Processing Record 43 of Set 4 | hirara\n",
      "Processing Record 44 of Set 4 | iracoubo\n",
      "Processing Record 45 of Set 4 | cayenne\n",
      "Processing Record 46 of Set 4 | songea\n",
      "Processing Record 47 of Set 4 | fortuna\n",
      "Processing Record 48 of Set 4 | jiuquan\n",
      "Processing Record 49 of Set 4 | westport\n",
      "Processing Record 50 of Set 4 | nioro\n",
      "Processing Record 1 of Set 5 | bagdarin\n",
      "Processing Record 2 of Set 5 | clyde river\n",
      "Processing Record 3 of Set 5 | carnarvon\n",
      "Processing Record 4 of Set 5 | murgud\n",
      "Processing Record 5 of Set 5 | kavieng\n",
      "Processing Record 6 of Set 5 | florianopolis\n",
      "Processing Record 7 of Set 5 | terekli-mekteb\n",
      "Processing Record 8 of Set 5 | ilulissat\n",
      "City not found. Skipping...\n",
      "Processing Record 9 of Set 5 | norman wells\n",
      "Processing Record 10 of Set 5 | aviles\n",
      "Processing Record 11 of Set 5 | mehamn\n",
      "Processing Record 12 of Set 5 | ciudad bolivar\n",
      "Processing Record 13 of Set 5 | bambous virieux\n",
      "Processing Record 14 of Set 5 | vlore\n",
      "Processing Record 15 of Set 5 | sambava\n",
      "Processing Record 16 of Set 5 | soyo\n",
      "Processing Record 17 of Set 5 | colon\n",
      "Processing Record 18 of Set 5 | leningradskiy\n",
      "Processing Record 19 of Set 5 | baykit\n",
      "Processing Record 20 of Set 5 | canico\n",
      "City not found. Skipping...\n",
      "Processing Record 21 of Set 5 | yatou\n",
      "Processing Record 22 of Set 5 | newport\n",
      "Processing Record 23 of Set 5 | lodja\n",
      "Processing Record 24 of Set 5 | harper\n",
      "Processing Record 25 of Set 5 | middle island\n",
      "Processing Record 26 of Set 5 | faanui\n",
      "Processing Record 27 of Set 5 | guerrero negro\n",
      "Processing Record 28 of Set 5 | shakhovskaya\n",
      "Processing Record 29 of Set 5 | balkanabat\n",
      "City not found. Skipping...\n",
      "Processing Record 30 of Set 5 | de-kastri\n",
      "Processing Record 31 of Set 5 | constitucion\n",
      "Processing Record 32 of Set 5 | tigil\n",
      "Processing Record 33 of Set 5 | atyrau\n",
      "Processing Record 34 of Set 5 | torbay\n",
      "Processing Record 35 of Set 5 | port-cartier\n",
      "Processing Record 36 of Set 5 | jalu\n",
      "Processing Record 37 of Set 5 | rock sound\n",
      "Processing Record 38 of Set 5 | bubaque\n",
      "Processing Record 39 of Set 5 | viedma\n",
      "Processing Record 40 of Set 5 | tiarei\n",
      "Processing Record 41 of Set 5 | flagstaff\n",
      "Processing Record 42 of Set 5 | durango\n",
      "Processing Record 43 of Set 5 | makakilo city\n",
      "Processing Record 44 of Set 5 | shama\n",
      "Processing Record 45 of Set 5 | tula\n",
      "Processing Record 46 of Set 5 | bethel\n",
      "Processing Record 47 of Set 5 | namatanai\n",
      "Processing Record 48 of Set 5 | chokurdakh\n",
      "Processing Record 49 of Set 5 | neyyattinkara\n",
      "Processing Record 50 of Set 5 | mount gambier\n",
      "Processing Record 1 of Set 6 | jieshi\n",
      "Processing Record 2 of Set 6 | havre\n",
      "Processing Record 3 of Set 6 | ascension\n",
      "Processing Record 4 of Set 6 | pithoro\n",
      "Processing Record 5 of Set 6 | torrevieja\n",
      "Processing Record 6 of Set 6 | abhar\n",
      "Processing Record 7 of Set 6 | melo\n",
      "Processing Record 8 of Set 6 | kingsport\n",
      "Processing Record 9 of Set 6 | atbasar\n",
      "Processing Record 10 of Set 6 | mataram\n",
      "Processing Record 11 of Set 6 | sitka\n",
      "Processing Record 12 of Set 6 | beirut\n",
      "Processing Record 13 of Set 6 | faya\n",
      "Processing Record 14 of Set 6 | higashine\n",
      "Processing Record 15 of Set 6 | mogadishu\n",
      "Processing Record 16 of Set 6 | chuy\n",
      "Processing Record 17 of Set 6 | port lincoln\n",
      "Processing Record 18 of Set 6 | shimoda\n",
      "Processing Record 19 of Set 6 | bilma\n",
      "Processing Record 20 of Set 6 | broken hill\n",
      "Processing Record 21 of Set 6 | hamilton\n",
      "Processing Record 22 of Set 6 | sao jose da coroa grande\n",
      "Processing Record 23 of Set 6 | leh\n",
      "Processing Record 24 of Set 6 | coquimbo\n",
      "Processing Record 25 of Set 6 | derzhavinsk\n",
      "City not found. Skipping...\n",
      "Processing Record 26 of Set 6 | gladstone\n",
      "Processing Record 27 of Set 6 | kanchipuram\n",
      "Processing Record 28 of Set 6 | borodino\n",
      "City not found. Skipping...\n",
      "Processing Record 29 of Set 6 | port hedland\n",
      "Processing Record 30 of Set 6 | kothapet\n",
      "Processing Record 31 of Set 6 | neyshabur\n",
      "Processing Record 32 of Set 6 | gorontalo\n",
      "Processing Record 33 of Set 6 | vostok\n",
      "Processing Record 34 of Set 6 | huaura\n",
      "Processing Record 35 of Set 6 | mayumba\n",
      "Processing Record 36 of Set 6 | sangar\n",
      "City not found. Skipping...\n",
      "Processing Record 37 of Set 6 | oksfjord\n",
      "City not found. Skipping...\n",
      "Processing Record 38 of Set 6 | arman\n",
      "City not found. Skipping...\n",
      "Processing Record 39 of Set 6 | genhe\n",
      "Processing Record 40 of Set 6 | lata\n",
      "City not found. Skipping...\n",
      "Processing Record 41 of Set 6 | yulara\n",
      "Processing Record 42 of Set 6 | tsimlyansk\n",
      "Processing Record 43 of Set 6 | gidole\n",
      "Processing Record 44 of Set 6 | havre-saint-pierre\n",
      "Processing Record 45 of Set 6 | qui nhon\n",
      "Processing Record 46 of Set 6 | albury\n",
      "Processing Record 47 of Set 6 | saldanha\n",
      "Processing Record 48 of Set 6 | aksu\n",
      "City not found. Skipping...\n",
      "Processing Record 49 of Set 6 | asau\n",
      "Processing Record 50 of Set 6 | juegang\n",
      "Processing Record 1 of Set 7 | mus\n",
      "Processing Record 2 of Set 7 | tromso\n",
      "Processing Record 3 of Set 7 | adrar\n",
      "Processing Record 4 of Set 7 | matehuala\n",
      "Processing Record 5 of Set 7 | lima\n",
      "Processing Record 6 of Set 7 | jardim\n",
      "Processing Record 7 of Set 7 | yerbogachen\n",
      "Processing Record 8 of Set 7 | naryan-mar\n",
      "Processing Record 9 of Set 7 | tonantins\n",
      "Processing Record 10 of Set 7 | boksburg\n",
      "Processing Record 11 of Set 7 | abrau-dyurso\n",
      "Processing Record 12 of Set 7 | yarmouth\n",
      "Processing Record 13 of Set 7 | la ronge\n",
      "Processing Record 14 of Set 7 | killybegs\n",
      "Processing Record 15 of Set 7 | lavrentiya\n",
      "Processing Record 16 of Set 7 | waipawa\n",
      "Processing Record 17 of Set 7 | carauari\n",
      "Processing Record 18 of Set 7 | houston\n",
      "Processing Record 19 of Set 7 | aquidauana\n",
      "Processing Record 20 of Set 7 | waslala\n",
      "Processing Record 21 of Set 7 | sarangani\n",
      "Processing Record 22 of Set 7 | amazar\n",
      "Processing Record 23 of Set 7 | bad windsheim\n",
      "Processing Record 24 of Set 7 | hammerfest\n",
      "City not found. Skipping...\n",
      "City not found. Skipping...\n",
      "Processing Record 25 of Set 7 | terrace bay\n",
      "Processing Record 26 of Set 7 | kalmunai\n",
      "Processing Record 27 of Set 7 | alice springs\n",
      "Processing Record 28 of Set 7 | sisimiut\n",
      "Processing Record 29 of Set 7 | aswan\n",
      "City not found. Skipping...\n",
      "City not found. Skipping...\n",
      "Processing Record 30 of Set 7 | isla vista\n",
      "Processing Record 31 of Set 7 | metro\n",
      "Processing Record 32 of Set 7 | jimo\n",
      "Processing Record 33 of Set 7 | leninskoye\n",
      "Processing Record 34 of Set 7 | raudeberg\n",
      "Processing Record 35 of Set 7 | lashio\n",
      "Processing Record 36 of Set 7 | goure\n",
      "Processing Record 37 of Set 7 | kutum\n",
      "Processing Record 38 of Set 7 | sorland\n",
      "Processing Record 39 of Set 7 | lasa\n",
      "City not found. Skipping...\n",
      "Processing Record 40 of Set 7 | moindou\n",
      "Processing Record 41 of Set 7 | russell\n",
      "Processing Record 42 of Set 7 | cerignola\n",
      "Processing Record 43 of Set 7 | mildura\n",
      "City not found. Skipping...\n",
      "Processing Record 44 of Set 7 | camopi\n",
      "Processing Record 45 of Set 7 | mao\n",
      "Processing Record 46 of Set 7 | pedasi\n",
      "Processing Record 47 of Set 7 | pilot butte\n",
      "Processing Record 48 of Set 7 | guzelyurt\n",
      "Processing Record 49 of Set 7 | haines junction\n",
      "Processing Record 50 of Set 7 | erenhot\n",
      "Processing Record 1 of Set 8 | luba\n",
      "Processing Record 2 of Set 8 | dire dawa\n",
      "Processing Record 3 of Set 8 | kendari\n",
      "Processing Record 4 of Set 8 | padang\n",
      "Processing Record 5 of Set 8 | puro\n",
      "City not found. Skipping...\n",
      "Processing Record 6 of Set 8 | oga\n",
      "Processing Record 7 of Set 8 | te anau\n",
      "Processing Record 8 of Set 8 | umm lajj\n",
      "City not found. Skipping...\n",
      "Processing Record 9 of Set 8 | korla\n",
      "Processing Record 10 of Set 8 | kananga\n",
      "Processing Record 11 of Set 8 | pouebo\n",
      "Processing Record 12 of Set 8 | kashin\n",
      "Processing Record 13 of Set 8 | sao paulo de olivenca\n",
      "Processing Record 14 of Set 8 | narsaq\n",
      "Processing Record 15 of Set 8 | dera ghazi khan\n",
      "Processing Record 16 of Set 8 | fairbanks\n",
      "Processing Record 17 of Set 8 | camapua\n",
      "Processing Record 18 of Set 8 | namibe\n",
      "Processing Record 19 of Set 8 | baghdad\n",
      "Processing Record 20 of Set 8 | ketchikan\n",
      "Processing Record 21 of Set 8 | iquique\n",
      "Processing Record 22 of Set 8 | boende\n",
      "Processing Record 23 of Set 8 | port hardy\n",
      "Processing Record 24 of Set 8 | pandan\n",
      "City not found. Skipping...\n",
      "Processing Record 25 of Set 8 | shingu\n"
     ]
    },
    {
     "name": "stdout",
     "output_type": "stream",
     "text": [
      "Processing Record 26 of Set 8 | rafaela\n",
      "Processing Record 27 of Set 8 | buraydah\n",
      "Processing Record 28 of Set 8 | gariaband\n",
      "Processing Record 29 of Set 8 | abeche\n",
      "Processing Record 30 of Set 8 | williams lake\n",
      "Processing Record 31 of Set 8 | general macarthur\n",
      "Processing Record 32 of Set 8 | laguna\n",
      "Processing Record 33 of Set 8 | barreirinhas\n",
      "Processing Record 34 of Set 8 | petropavl\n",
      "Processing Record 35 of Set 8 | deputatskiy\n",
      "Processing Record 36 of Set 8 | khotyn\n",
      "Processing Record 37 of Set 8 | zhigansk\n",
      "Processing Record 38 of Set 8 | san marcos\n",
      "Processing Record 39 of Set 8 | qinzhou\n",
      "Processing Record 40 of Set 8 | tuatapere\n",
      "Processing Record 41 of Set 8 | boyolangu\n",
      "Processing Record 42 of Set 8 | kargasok\n",
      "Processing Record 43 of Set 8 | inhambane\n",
      "Processing Record 44 of Set 8 | klimovo\n",
      "Processing Record 45 of Set 8 | petropavlovsk-kamchatskiy\n",
      "Processing Record 46 of Set 8 | inirida\n",
      "City not found. Skipping...\n",
      "Processing Record 47 of Set 8 | vikhorevka\n",
      "City not found. Skipping...\n",
      "Processing Record 48 of Set 8 | santa maria\n",
      "Processing Record 49 of Set 8 | lalibela\n",
      "Processing Record 50 of Set 8 | iqaluit\n",
      "Processing Record 1 of Set 9 | souillac\n",
      "Processing Record 2 of Set 9 | yarovoye\n",
      "Processing Record 3 of Set 9 | yermakovskoye\n",
      "Processing Record 4 of Set 9 | caravelas\n",
      "Processing Record 5 of Set 9 | soe\n",
      "Processing Record 6 of Set 9 | pangkalanbuun\n",
      "Processing Record 7 of Set 9 | hofn\n",
      "Processing Record 8 of Set 9 | saint george\n",
      "Processing Record 9 of Set 9 | moron\n",
      "Processing Record 10 of Set 9 | belaya gora\n",
      "City not found. Skipping...\n",
      "Processing Record 11 of Set 9 | vraca\n",
      "Processing Record 12 of Set 9 | campi bisenzio\n",
      "Processing Record 13 of Set 9 | catamarca\n",
      "Processing Record 14 of Set 9 | zyryanka\n",
      "Processing Record 15 of Set 9 | saint anthony\n",
      "Processing Record 16 of Set 9 | plettenberg bay\n",
      "Processing Record 17 of Set 9 | tiksi\n",
      "Processing Record 18 of Set 9 | kozhva\n",
      "Processing Record 19 of Set 9 | kargil\n",
      "Processing Record 20 of Set 9 | tullahoma\n",
      "Processing Record 21 of Set 9 | myitkyina\n",
      "Processing Record 22 of Set 9 | yumen\n",
      "Processing Record 23 of Set 9 | baoro\n",
      "Processing Record 24 of Set 9 | ilebo\n",
      "City not found. Skipping...\n",
      "Processing Record 25 of Set 9 | port keats\n",
      "Processing Record 26 of Set 9 | talnakh\n",
      "Processing Record 27 of Set 9 | alihe\n",
      "Processing Record 28 of Set 9 | mandal\n",
      "City not found. Skipping...\n",
      "Processing Record 29 of Set 9 | karratha\n",
      "Processing Record 30 of Set 9 | port-gentil\n",
      "Processing Record 31 of Set 9 | tambovka\n",
      "City not found. Skipping...\n",
      "Processing Record 32 of Set 9 | oriximina\n",
      "Processing Record 33 of Set 9 | meulaboh\n",
      "Processing Record 34 of Set 9 | paamiut\n",
      "Processing Record 35 of Set 9 | kerchevskiy\n",
      "Processing Record 36 of Set 9 | tyrma\n",
      "Processing Record 37 of Set 9 | pahrump\n",
      "Processing Record 38 of Set 9 | kentville\n",
      "Processing Record 39 of Set 9 | filingue\n",
      "Processing Record 40 of Set 9 | dhidhdhoo\n",
      "Processing Record 41 of Set 9 | acurenam\n",
      "Processing Record 42 of Set 9 | vagay\n",
      "City not found. Skipping...\n",
      "Processing Record 43 of Set 9 | bilibino\n",
      "Processing Record 44 of Set 9 | bar harbor\n",
      "Processing Record 45 of Set 9 | aripuana\n",
      "Processing Record 46 of Set 9 | glendive\n",
      "Processing Record 47 of Set 9 | dodola\n",
      "Processing Record 48 of Set 9 | olafsvik\n",
      "Processing Record 49 of Set 9 | sibu\n",
      "Processing Record 50 of Set 9 | kemijarvi\n",
      "Processing Record 1 of Set 10 | bengkulu\n",
      "Processing Record 2 of Set 10 | labuan\n",
      "Processing Record 3 of Set 10 | carutapera\n",
      "Processing Record 4 of Set 10 | jijiga\n",
      "Processing Record 5 of Set 10 | ulaangom\n",
      "Processing Record 6 of Set 10 | orsk\n",
      "Processing Record 7 of Set 10 | ales\n",
      "Processing Record 8 of Set 10 | voh\n",
      "Processing Record 9 of Set 10 | ternate\n",
      "Processing Record 10 of Set 10 | diego de almagro\n",
      "Processing Record 11 of Set 10 | sucua\n",
      "Processing Record 12 of Set 10 | parana\n",
      "Processing Record 13 of Set 10 | sur\n",
      "Processing Record 14 of Set 10 | nevsehir\n",
      "Processing Record 15 of Set 10 | seoul\n",
      "Processing Record 16 of Set 10 | moyo\n",
      "Processing Record 17 of Set 10 | gat\n",
      "Processing Record 18 of Set 10 | gao\n",
      "Processing Record 19 of Set 10 | rio gallegos\n",
      "Processing Record 20 of Set 10 | saint-georges\n",
      "Processing Record 21 of Set 10 | coaldale\n",
      "Processing Record 22 of Set 10 | hambantota\n",
      "Processing Record 23 of Set 10 | zomin\n",
      "Processing Record 24 of Set 10 | kysyl-syr\n",
      "Processing Record 25 of Set 10 | mayo\n",
      "Processing Record 26 of Set 10 | maumere\n",
      "Processing Record 27 of Set 10 | kajaani\n",
      "Processing Record 28 of Set 10 | alta floresta\n",
      "Processing Record 29 of Set 10 | singkawang\n",
      "Processing Record 30 of Set 10 | hinatuan\n",
      "Processing Record 31 of Set 10 | boa vista\n",
      "Processing Record 32 of Set 10 | khuzhir\n",
      "Processing Record 33 of Set 10 | bisho\n",
      "Processing Record 34 of Set 10 | severnoye\n",
      "Processing Record 35 of Set 10 | acapulco\n",
      "Processing Record 36 of Set 10 | fuyu\n",
      "Processing Record 37 of Set 10 | mikkeli\n",
      "Processing Record 38 of Set 10 | caucaia\n",
      "Processing Record 39 of Set 10 | ayan\n",
      "Processing Record 40 of Set 10 | winslow\n",
      "City not found. Skipping...\n",
      "Processing Record 41 of Set 10 | dukat\n",
      "Processing Record 42 of Set 10 | cintalapa\n",
      "Processing Record 43 of Set 10 | fuengirola\n",
      "Processing Record 44 of Set 10 | pevek\n",
      "Processing Record 45 of Set 10 | pangnirtung\n",
      "Processing Record 46 of Set 10 | kitgum\n",
      "Processing Record 47 of Set 10 | vargem grande\n",
      "Processing Record 48 of Set 10 | safford\n",
      "Processing Record 49 of Set 10 | gumia\n",
      "Processing Record 50 of Set 10 | bosaso\n",
      "Processing Record 1 of Set 11 | mumbwa\n",
      "Processing Record 2 of Set 11 | dunedin\n",
      "Processing Record 3 of Set 11 | gornopravdinsk\n",
      "Processing Record 4 of Set 11 | kahului\n",
      "Processing Record 5 of Set 11 | college\n",
      "City not found. Skipping...\n",
      "Processing Record 6 of Set 11 | puerto escondido\n",
      "Processing Record 7 of Set 11 | aykhal\n",
      "Processing Record 8 of Set 11 | kenai\n",
      "Processing Record 9 of Set 11 | mareeba\n",
      "Processing Record 10 of Set 11 | lokosovo\n",
      "Processing Record 11 of Set 11 | atambua\n",
      "City not found. Skipping...\n",
      "Processing Record 12 of Set 11 | andenes\n",
      "Processing Record 13 of Set 11 | high level\n",
      "Processing Record 14 of Set 11 | muzhi\n",
      "Processing Record 15 of Set 11 | pauini\n",
      "City not found. Skipping...\n",
      "Processing Record 16 of Set 11 | port antonio\n",
      "Processing Record 17 of Set 11 | chicama\n",
      "Processing Record 18 of Set 11 | beira\n",
      "Processing Record 19 of Set 11 | gainesville\n",
      "Processing Record 20 of Set 11 | sakakah\n",
      "Processing Record 21 of Set 11 | mecca\n",
      "Processing Record 22 of Set 11 | san lorenzo\n",
      "Processing Record 23 of Set 11 | kiama\n",
      "Processing Record 24 of Set 11 | pinega\n",
      "Processing Record 25 of Set 11 | huarmey\n",
      "Processing Record 26 of Set 11 | sabha\n",
      "Processing Record 27 of Set 11 | maceio\n",
      "Processing Record 28 of Set 11 | isangel\n",
      "Processing Record 29 of Set 11 | herat\n",
      "Processing Record 30 of Set 11 | conceicao do araguaia\n",
      "Processing Record 31 of Set 11 | sakaiminato\n",
      "Processing Record 32 of Set 11 | gonen\n",
      "Processing Record 33 of Set 11 | jacareacanga\n",
      "City not found. Skipping...\n",
      "Processing Record 34 of Set 11 | pimentel\n",
      "Processing Record 35 of Set 11 | bokoro\n",
      "Processing Record 36 of Set 11 | liverpool\n",
      "Processing Record 37 of Set 11 | vagur\n",
      "City not found. Skipping...\n",
      "Processing Record 38 of Set 11 | hami\n",
      "City not found. Skipping...\n",
      "Processing Record 39 of Set 11 | pimenta bueno\n",
      "Processing Record 40 of Set 11 | dwarka\n",
      "Processing Record 41 of Set 11 | segou\n",
      "Processing Record 42 of Set 11 | altay\n",
      "City not found. Skipping...\n",
      "Processing Record 43 of Set 11 | jamsa\n",
      "Processing Record 44 of Set 11 | san vicente de canete\n",
      "Processing Record 45 of Set 11 | turukhansk\n",
      "Processing Record 46 of Set 11 | chifeng\n",
      "Processing Record 47 of Set 11 | rock springs\n",
      "Processing Record 48 of Set 11 | acarau\n",
      "Processing Record 49 of Set 11 | tazovskiy\n",
      "Processing Record 50 of Set 11 | la rioja\n",
      "Processing Record 1 of Set 12 | lakes entrance\n",
      "Processing Record 2 of Set 12 | swinoujscie\n",
      "Processing Record 3 of Set 12 | katangli\n",
      "Processing Record 4 of Set 12 | sept-iles\n",
      "Processing Record 5 of Set 12 | tenenkou\n",
      "Processing Record 6 of Set 12 | wetaskiwin\n",
      "City not found. Skipping...\n",
      "Processing Record 7 of Set 12 | general pico\n",
      "Processing Record 8 of Set 12 | cochrane\n",
      "Processing Record 9 of Set 12 | bathsheba\n",
      "Processing Record 10 of Set 12 | loa janan\n",
      "Processing Record 11 of Set 12 | uarini\n",
      "Processing Record 12 of Set 12 | paita\n"
     ]
    },
    {
     "name": "stdout",
     "output_type": "stream",
     "text": [
      "Processing Record 13 of Set 12 | binabalian\n",
      "Processing Record 14 of Set 12 | monrovia\n",
      "Processing Record 15 of Set 12 | lenine\n",
      "Processing Record 16 of Set 12 | misratah\n",
      "City not found. Skipping...\n",
      "Processing Record 17 of Set 12 | hovd\n",
      "Processing Record 18 of Set 12 | talara\n",
      "Processing Record 19 of Set 12 | srednekolymsk\n",
      "Data Retrieval Complete\n"
     ]
    }
   ],
   "source": [
    "#count of records\n",
    "count=1\n",
    "#count of set\n",
    "setnum=1\n",
    "\n",
    "#initial empty lists \n",
    "lat=[]\n",
    "lng=[]\n",
    "maxtemp=[]\n",
    "humidity=[]\n",
    "cloud=[]\n",
    "wind=[]\n",
    "country=[]\n",
    "date=[]\n",
    "citiesnotfound=[]\n",
    "\n",
    "print(\"Beginning Data Retrieval\")\n",
    "print(\"-----------------------\")\n",
    "\n",
    "for x in range(len(cities)): \n",
    "    try:\n",
    "        if count<=50:\n",
    "            \n",
    "            #api response for weather\n",
    "            response=requests.get(query_url + cities[x]).json()\n",
    "\n",
    "            #append lists for each column needed\n",
    "            lat.append(response[\"coord\"][\"lat\"])\n",
    "            lng.append(response[\"coord\"][\"lon\"])\n",
    "            maxtemp.append(response[\"main\"][\"temp_max\"])\n",
    "            humidity.append(response[\"main\"][\"humidity\"])\n",
    "            cloud.append(response[\"clouds\"][\"all\"])\n",
    "            wind.append(response[\"wind\"][\"speed\"])\n",
    "            country.append(response[\"sys\"][\"country\"])\n",
    "            date.append(response[\"dt\"])\n",
    "            \n",
    "\n",
    "            print(f\"Processing Record {count} of Set {setnum} | {cities[x]}\")\n",
    "            count+=1\n",
    "            \n",
    "            \n",
    "        #new set of 50    \n",
    "        else: \n",
    "            \n",
    "            #rest for 1 minute\n",
    "            time.sleep(60)\n",
    "            \n",
    "            \n",
    "            setnum+=1\n",
    "            count=1\n",
    "            #api response for weather\n",
    "            response=requests.get(query_url + cities[x]).json()\n",
    "\n",
    "            #append lists for each column needed\n",
    "            lat.append(response[\"coord\"][\"lat\"])\n",
    "            lng.append(response[\"coord\"][\"lon\"])\n",
    "            maxtemp.append(response[\"main\"][\"temp_max\"])\n",
    "            humidity.append(response[\"main\"][\"humidity\"])\n",
    "            cloud.append(response[\"clouds\"][\"all\"])\n",
    "            wind.append(response[\"wind\"][\"speed\"])\n",
    "            country.append(response[\"sys\"][\"country\"])\n",
    "            date.append(response[\"dt\"])\n",
    "            \n",
    "\n",
    "            print(f\"Processing Record {count} of Set {setnum} | {cities[x]}\")\n",
    "            \n",
    "            \n",
    "            count+=1\n",
    "    except:\n",
    "        \n",
    "        print(\"City not found. Skipping...\")\n",
    "        citiesnotfound.append(cities[x])\n",
    "        pass\n",
    "    \n",
    "print(\"Data Retrieval Complete\")"
   ]
  },
  {
   "cell_type": "markdown",
   "metadata": {},
   "source": [
    "### Convert Raw Data to DataFrame\n",
    "* Export the city data into a .csv.\n",
    "* Display the DataFrame"
   ]
  },
  {
   "cell_type": "code",
   "execution_count": 5,
   "metadata": {},
   "outputs": [],
   "source": [
    "#cleanup cities list for dataframe to remove cities that were not found in query \n",
    "\n",
    "for city in citiesnotfound:\n",
    "    if city in cities:\n",
    "        cities.remove(city)\n"
   ]
  },
  {
   "cell_type": "code",
   "execution_count": 6,
   "metadata": {},
   "outputs": [],
   "source": [
    "#creating dictionary for compiled data\n",
    "\n",
    "weather_dict={\n",
    "    \"City\":cities,\n",
    "    \"Lat\": lat,\n",
    "    \"Lng\":lng,\n",
    "    \"Max Temp\":maxtemp,\n",
    "    \"Humidity\":humidity,\n",
    "    \"Cloudiness\":cloud,\n",
    "    \"Wind Speed\":wind,\n",
    "    \"Country\": country,\n",
    "    \"Date\": date\n",
    "}\n",
    "\n",
    "\n",
    "#creating dataframe from dictionary\n",
    "\n",
    "weather_data=pd.DataFrame(weather_dict)"
   ]
  },
  {
   "cell_type": "code",
   "execution_count": 7,
   "metadata": {},
   "outputs": [],
   "source": [
    "# writing to CSV file in output_data folder \n",
    "\n",
    "weather_data.to_csv(output_data_file, encoding='utf-8')"
   ]
  },
  {
   "cell_type": "code",
   "execution_count": 8,
   "metadata": {
    "scrolled": false
   },
   "outputs": [
    {
     "data": {
      "text/html": [
       "<div>\n",
       "<style scoped>\n",
       "    .dataframe tbody tr th:only-of-type {\n",
       "        vertical-align: middle;\n",
       "    }\n",
       "\n",
       "    .dataframe tbody tr th {\n",
       "        vertical-align: top;\n",
       "    }\n",
       "\n",
       "    .dataframe thead th {\n",
       "        text-align: right;\n",
       "    }\n",
       "</style>\n",
       "<table border=\"1\" class=\"dataframe\">\n",
       "  <thead>\n",
       "    <tr style=\"text-align: right;\">\n",
       "      <th></th>\n",
       "      <th>City</th>\n",
       "      <th>Lat</th>\n",
       "      <th>Lng</th>\n",
       "      <th>Max Temp</th>\n",
       "      <th>Humidity</th>\n",
       "      <th>Cloudiness</th>\n",
       "      <th>Wind Speed</th>\n",
       "      <th>Country</th>\n",
       "      <th>Date</th>\n",
       "    </tr>\n",
       "  </thead>\n",
       "  <tbody>\n",
       "    <tr>\n",
       "      <th>0</th>\n",
       "      <td>cockburn town</td>\n",
       "      <td>21.4612</td>\n",
       "      <td>-71.1419</td>\n",
       "      <td>77.95</td>\n",
       "      <td>72</td>\n",
       "      <td>0</td>\n",
       "      <td>9.44</td>\n",
       "      <td>TC</td>\n",
       "      <td>1643485578</td>\n",
       "    </tr>\n",
       "    <tr>\n",
       "      <th>1</th>\n",
       "      <td>ucluelet</td>\n",
       "      <td>48.9329</td>\n",
       "      <td>-125.5528</td>\n",
       "      <td>43.09</td>\n",
       "      <td>89</td>\n",
       "      <td>100</td>\n",
       "      <td>1.01</td>\n",
       "      <td>CA</td>\n",
       "      <td>1643485562</td>\n",
       "    </tr>\n",
       "    <tr>\n",
       "      <th>2</th>\n",
       "      <td>dingle</td>\n",
       "      <td>10.9995</td>\n",
       "      <td>122.6711</td>\n",
       "      <td>74.71</td>\n",
       "      <td>91</td>\n",
       "      <td>9</td>\n",
       "      <td>1.57</td>\n",
       "      <td>PH</td>\n",
       "      <td>1643485640</td>\n",
       "    </tr>\n",
       "    <tr>\n",
       "      <th>3</th>\n",
       "      <td>casa nova</td>\n",
       "      <td>-9.4167</td>\n",
       "      <td>-41.1333</td>\n",
       "      <td>82.38</td>\n",
       "      <td>74</td>\n",
       "      <td>99</td>\n",
       "      <td>6.58</td>\n",
       "      <td>BR</td>\n",
       "      <td>1643485640</td>\n",
       "    </tr>\n",
       "    <tr>\n",
       "      <th>4</th>\n",
       "      <td>terrace</td>\n",
       "      <td>54.5163</td>\n",
       "      <td>-128.6035</td>\n",
       "      <td>39.11</td>\n",
       "      <td>93</td>\n",
       "      <td>100</td>\n",
       "      <td>21.85</td>\n",
       "      <td>CA</td>\n",
       "      <td>1643485514</td>\n",
       "    </tr>\n",
       "  </tbody>\n",
       "</table>\n",
       "</div>"
      ],
      "text/plain": [
       "            City      Lat       Lng  Max Temp  Humidity  Cloudiness  \\\n",
       "0  cockburn town  21.4612  -71.1419     77.95        72           0   \n",
       "1       ucluelet  48.9329 -125.5528     43.09        89         100   \n",
       "2         dingle  10.9995  122.6711     74.71        91           9   \n",
       "3      casa nova  -9.4167  -41.1333     82.38        74          99   \n",
       "4        terrace  54.5163 -128.6035     39.11        93         100   \n",
       "\n",
       "   Wind Speed Country        Date  \n",
       "0        9.44      TC  1643485578  \n",
       "1        1.01      CA  1643485562  \n",
       "2        1.57      PH  1643485640  \n",
       "3        6.58      BR  1643485640  \n",
       "4       21.85      CA  1643485514  "
      ]
     },
     "execution_count": 8,
     "metadata": {},
     "output_type": "execute_result"
    }
   ],
   "source": [
    "#Display DataFrame\n",
    "\n",
    "weather_data.head()"
   ]
  },
  {
   "cell_type": "code",
   "execution_count": 9,
   "metadata": {},
   "outputs": [
    {
     "data": {
      "text/html": [
       "<div>\n",
       "<style scoped>\n",
       "    .dataframe tbody tr th:only-of-type {\n",
       "        vertical-align: middle;\n",
       "    }\n",
       "\n",
       "    .dataframe tbody tr th {\n",
       "        vertical-align: top;\n",
       "    }\n",
       "\n",
       "    .dataframe thead th {\n",
       "        text-align: right;\n",
       "    }\n",
       "</style>\n",
       "<table border=\"1\" class=\"dataframe\">\n",
       "  <thead>\n",
       "    <tr style=\"text-align: right;\">\n",
       "      <th></th>\n",
       "      <th>Lat</th>\n",
       "      <th>Lng</th>\n",
       "      <th>Max Temp</th>\n",
       "      <th>Humidity</th>\n",
       "      <th>Cloudiness</th>\n",
       "      <th>Wind Speed</th>\n",
       "      <th>Date</th>\n",
       "    </tr>\n",
       "  </thead>\n",
       "  <tbody>\n",
       "    <tr>\n",
       "      <th>count</th>\n",
       "      <td>569.000000</td>\n",
       "      <td>569.000000</td>\n",
       "      <td>569.000000</td>\n",
       "      <td>569.000000</td>\n",
       "      <td>569.000000</td>\n",
       "      <td>569.000000</td>\n",
       "      <td>5.690000e+02</td>\n",
       "    </tr>\n",
       "    <tr>\n",
       "      <th>mean</th>\n",
       "      <td>21.341691</td>\n",
       "      <td>18.267636</td>\n",
       "      <td>48.430439</td>\n",
       "      <td>72.550088</td>\n",
       "      <td>60.478032</td>\n",
       "      <td>8.189051</td>\n",
       "      <td>1.643486e+09</td>\n",
       "    </tr>\n",
       "    <tr>\n",
       "      <th>std</th>\n",
       "      <td>33.282671</td>\n",
       "      <td>90.504013</td>\n",
       "      <td>32.021428</td>\n",
       "      <td>21.847214</td>\n",
       "      <td>41.035625</td>\n",
       "      <td>6.476365</td>\n",
       "      <td>2.716401e+02</td>\n",
       "    </tr>\n",
       "    <tr>\n",
       "      <th>min</th>\n",
       "      <td>-54.800000</td>\n",
       "      <td>-175.200000</td>\n",
       "      <td>-35.210000</td>\n",
       "      <td>11.000000</td>\n",
       "      <td>0.000000</td>\n",
       "      <td>0.000000</td>\n",
       "      <td>1.643485e+09</td>\n",
       "    </tr>\n",
       "    <tr>\n",
       "      <th>25%</th>\n",
       "      <td>-4.577200</td>\n",
       "      <td>-62.996700</td>\n",
       "      <td>24.750000</td>\n",
       "      <td>61.000000</td>\n",
       "      <td>17.000000</td>\n",
       "      <td>3.470000</td>\n",
       "      <td>1.643486e+09</td>\n",
       "    </tr>\n",
       "    <tr>\n",
       "      <th>50%</th>\n",
       "      <td>25.516700</td>\n",
       "      <td>24.731400</td>\n",
       "      <td>58.770000</td>\n",
       "      <td>77.000000</td>\n",
       "      <td>75.000000</td>\n",
       "      <td>6.640000</td>\n",
       "      <td>1.643486e+09</td>\n",
       "    </tr>\n",
       "    <tr>\n",
       "      <th>75%</th>\n",
       "      <td>49.783400</td>\n",
       "      <td>97.400000</td>\n",
       "      <td>76.170000</td>\n",
       "      <td>89.000000</td>\n",
       "      <td>100.000000</td>\n",
       "      <td>11.210000</td>\n",
       "      <td>1.643486e+09</td>\n",
       "    </tr>\n",
       "    <tr>\n",
       "      <th>max</th>\n",
       "      <td>78.218600</td>\n",
       "      <td>179.316700</td>\n",
       "      <td>96.440000</td>\n",
       "      <td>100.000000</td>\n",
       "      <td>100.000000</td>\n",
       "      <td>46.800000</td>\n",
       "      <td>1.643486e+09</td>\n",
       "    </tr>\n",
       "  </tbody>\n",
       "</table>\n",
       "</div>"
      ],
      "text/plain": [
       "              Lat         Lng    Max Temp    Humidity  Cloudiness  Wind Speed  \\\n",
       "count  569.000000  569.000000  569.000000  569.000000  569.000000  569.000000   \n",
       "mean    21.341691   18.267636   48.430439   72.550088   60.478032    8.189051   \n",
       "std     33.282671   90.504013   32.021428   21.847214   41.035625    6.476365   \n",
       "min    -54.800000 -175.200000  -35.210000   11.000000    0.000000    0.000000   \n",
       "25%     -4.577200  -62.996700   24.750000   61.000000   17.000000    3.470000   \n",
       "50%     25.516700   24.731400   58.770000   77.000000   75.000000    6.640000   \n",
       "75%     49.783400   97.400000   76.170000   89.000000  100.000000   11.210000   \n",
       "max     78.218600  179.316700   96.440000  100.000000  100.000000   46.800000   \n",
       "\n",
       "               Date  \n",
       "count  5.690000e+02  \n",
       "mean   1.643486e+09  \n",
       "std    2.716401e+02  \n",
       "min    1.643485e+09  \n",
       "25%    1.643486e+09  \n",
       "50%    1.643486e+09  \n",
       "75%    1.643486e+09  \n",
       "max    1.643486e+09  "
      ]
     },
     "execution_count": 9,
     "metadata": {},
     "output_type": "execute_result"
    }
   ],
   "source": [
    "#Basic Stats of DataFrame \n",
    "\n",
    "stats=weather_data.describe()\n",
    "stats"
   ]
  },
  {
   "cell_type": "markdown",
   "metadata": {},
   "source": [
    "## Inspect the data and remove the cities where the humidity > 100%.\n",
    "----\n",
    "Skip this step if there are no cities that have humidity > 100%. "
   ]
  },
  {
   "cell_type": "code",
   "execution_count": 10,
   "metadata": {},
   "outputs": [],
   "source": [
    "#  Get the indices of cities that have humidity over 100%.\n",
    "\n",
    "over100= weather_data.loc[weather_data[\"Humidity\"]>100].index.tolist()\n"
   ]
  },
  {
   "cell_type": "code",
   "execution_count": 11,
   "metadata": {
    "scrolled": false
   },
   "outputs": [
    {
     "data": {
      "text/html": [
       "<div>\n",
       "<style scoped>\n",
       "    .dataframe tbody tr th:only-of-type {\n",
       "        vertical-align: middle;\n",
       "    }\n",
       "\n",
       "    .dataframe tbody tr th {\n",
       "        vertical-align: top;\n",
       "    }\n",
       "\n",
       "    .dataframe thead th {\n",
       "        text-align: right;\n",
       "    }\n",
       "</style>\n",
       "<table border=\"1\" class=\"dataframe\">\n",
       "  <thead>\n",
       "    <tr style=\"text-align: right;\">\n",
       "      <th></th>\n",
       "      <th>City</th>\n",
       "      <th>Lat</th>\n",
       "      <th>Lng</th>\n",
       "      <th>Max Temp</th>\n",
       "      <th>Humidity</th>\n",
       "      <th>Cloudiness</th>\n",
       "      <th>Wind Speed</th>\n",
       "      <th>Country</th>\n",
       "      <th>Date</th>\n",
       "    </tr>\n",
       "  </thead>\n",
       "  <tbody>\n",
       "    <tr>\n",
       "      <th>0</th>\n",
       "      <td>cockburn town</td>\n",
       "      <td>21.4612</td>\n",
       "      <td>-71.1419</td>\n",
       "      <td>77.95</td>\n",
       "      <td>72</td>\n",
       "      <td>0</td>\n",
       "      <td>9.44</td>\n",
       "      <td>TC</td>\n",
       "      <td>1643485578</td>\n",
       "    </tr>\n",
       "    <tr>\n",
       "      <th>1</th>\n",
       "      <td>ucluelet</td>\n",
       "      <td>48.9329</td>\n",
       "      <td>-125.5528</td>\n",
       "      <td>43.09</td>\n",
       "      <td>89</td>\n",
       "      <td>100</td>\n",
       "      <td>1.01</td>\n",
       "      <td>CA</td>\n",
       "      <td>1643485562</td>\n",
       "    </tr>\n",
       "    <tr>\n",
       "      <th>2</th>\n",
       "      <td>dingle</td>\n",
       "      <td>10.9995</td>\n",
       "      <td>122.6711</td>\n",
       "      <td>74.71</td>\n",
       "      <td>91</td>\n",
       "      <td>9</td>\n",
       "      <td>1.57</td>\n",
       "      <td>PH</td>\n",
       "      <td>1643485640</td>\n",
       "    </tr>\n",
       "    <tr>\n",
       "      <th>3</th>\n",
       "      <td>casa nova</td>\n",
       "      <td>-9.4167</td>\n",
       "      <td>-41.1333</td>\n",
       "      <td>82.38</td>\n",
       "      <td>74</td>\n",
       "      <td>99</td>\n",
       "      <td>6.58</td>\n",
       "      <td>BR</td>\n",
       "      <td>1643485640</td>\n",
       "    </tr>\n",
       "    <tr>\n",
       "      <th>4</th>\n",
       "      <td>terrace</td>\n",
       "      <td>54.5163</td>\n",
       "      <td>-128.6035</td>\n",
       "      <td>39.11</td>\n",
       "      <td>93</td>\n",
       "      <td>100</td>\n",
       "      <td>21.85</td>\n",
       "      <td>CA</td>\n",
       "      <td>1643485514</td>\n",
       "    </tr>\n",
       "    <tr>\n",
       "      <th>...</th>\n",
       "      <td>...</td>\n",
       "      <td>...</td>\n",
       "      <td>...</td>\n",
       "      <td>...</td>\n",
       "      <td>...</td>\n",
       "      <td>...</td>\n",
       "      <td>...</td>\n",
       "      <td>...</td>\n",
       "      <td>...</td>\n",
       "    </tr>\n",
       "    <tr>\n",
       "      <th>564</th>\n",
       "      <td>lenine</td>\n",
       "      <td>45.2986</td>\n",
       "      <td>35.7771</td>\n",
       "      <td>34.23</td>\n",
       "      <td>82</td>\n",
       "      <td>85</td>\n",
       "      <td>11.83</td>\n",
       "      <td>UA</td>\n",
       "      <td>1643486498</td>\n",
       "    </tr>\n",
       "    <tr>\n",
       "      <th>565</th>\n",
       "      <td>misratah</td>\n",
       "      <td>32.3754</td>\n",
       "      <td>15.0925</td>\n",
       "      <td>57.15</td>\n",
       "      <td>57</td>\n",
       "      <td>100</td>\n",
       "      <td>21.21</td>\n",
       "      <td>LY</td>\n",
       "      <td>1643486498</td>\n",
       "    </tr>\n",
       "    <tr>\n",
       "      <th>566</th>\n",
       "      <td>hovd</td>\n",
       "      <td>48.0056</td>\n",
       "      <td>91.6419</td>\n",
       "      <td>-13.02</td>\n",
       "      <td>72</td>\n",
       "      <td>13</td>\n",
       "      <td>3.09</td>\n",
       "      <td>MN</td>\n",
       "      <td>1643486498</td>\n",
       "    </tr>\n",
       "    <tr>\n",
       "      <th>567</th>\n",
       "      <td>talara</td>\n",
       "      <td>-4.5772</td>\n",
       "      <td>-81.2719</td>\n",
       "      <td>75.33</td>\n",
       "      <td>72</td>\n",
       "      <td>100</td>\n",
       "      <td>12.48</td>\n",
       "      <td>PE</td>\n",
       "      <td>1643486499</td>\n",
       "    </tr>\n",
       "    <tr>\n",
       "      <th>568</th>\n",
       "      <td>srednekolymsk</td>\n",
       "      <td>67.4500</td>\n",
       "      <td>153.6833</td>\n",
       "      <td>-23.93</td>\n",
       "      <td>100</td>\n",
       "      <td>93</td>\n",
       "      <td>4.94</td>\n",
       "      <td>RU</td>\n",
       "      <td>1643486499</td>\n",
       "    </tr>\n",
       "  </tbody>\n",
       "</table>\n",
       "<p>569 rows × 9 columns</p>\n",
       "</div>"
      ],
      "text/plain": [
       "              City      Lat       Lng  Max Temp  Humidity  Cloudiness  \\\n",
       "0    cockburn town  21.4612  -71.1419     77.95        72           0   \n",
       "1         ucluelet  48.9329 -125.5528     43.09        89         100   \n",
       "2           dingle  10.9995  122.6711     74.71        91           9   \n",
       "3        casa nova  -9.4167  -41.1333     82.38        74          99   \n",
       "4          terrace  54.5163 -128.6035     39.11        93         100   \n",
       "..             ...      ...       ...       ...       ...         ...   \n",
       "564         lenine  45.2986   35.7771     34.23        82          85   \n",
       "565       misratah  32.3754   15.0925     57.15        57         100   \n",
       "566           hovd  48.0056   91.6419    -13.02        72          13   \n",
       "567         talara  -4.5772  -81.2719     75.33        72         100   \n",
       "568  srednekolymsk  67.4500  153.6833    -23.93       100          93   \n",
       "\n",
       "     Wind Speed Country        Date  \n",
       "0          9.44      TC  1643485578  \n",
       "1          1.01      CA  1643485562  \n",
       "2          1.57      PH  1643485640  \n",
       "3          6.58      BR  1643485640  \n",
       "4         21.85      CA  1643485514  \n",
       "..          ...     ...         ...  \n",
       "564       11.83      UA  1643486498  \n",
       "565       21.21      LY  1643486498  \n",
       "566        3.09      MN  1643486498  \n",
       "567       12.48      PE  1643486499  \n",
       "568        4.94      RU  1643486499  \n",
       "\n",
       "[569 rows x 9 columns]"
      ]
     },
     "execution_count": 11,
     "metadata": {},
     "output_type": "execute_result"
    }
   ],
   "source": [
    "# Make a new DataFrame equal to the city data to drop all humidity outliers by index.\n",
    "# Passing \"inplace=False\" will make a copy of the city_data DataFrame, which we call \"clean_city_data\".\n",
    "\n",
    "clean_city_data=weather_data.drop(over100,inplace=False)\n",
    "\n",
    "clean_city_data\n"
   ]
  },
  {
   "cell_type": "markdown",
   "metadata": {},
   "source": [
    "## Plotting the Data\n",
    "* Use proper labeling of the plots using plot titles (including date of analysis) and axes labels.\n",
    "* Save the plotted figures as .pngs."
   ]
  },
  {
   "cell_type": "markdown",
   "metadata": {},
   "source": [
    "## Latitude vs. Temperature Plot"
   ]
  },
  {
   "cell_type": "code",
   "execution_count": 12,
   "metadata": {
    "scrolled": true
   },
   "outputs": [
    {
     "data": {
      "image/png": "[encoded data removed]",
      "text/plain": [
       "<Figure size 432x288 with 1 Axes>"
      ]
     },
     "metadata": {
      "needs_background": "light"
     },
     "output_type": "display_data"
    }
   ],
   "source": [
    "# Create a Scatter Plot for temperature vs latitude\n",
    "x_values = clean_city_data['Lat']\n",
    "y_values = clean_city_data['Max Temp']\n",
    "plt.scatter(x_values,y_values,alpha=.7)\n",
    "plt.xlabel('Latitude')\n",
    "plt.ylabel(f'Max Temperature (F)')\n",
    "\n",
    "#date of data pull\n",
    "date=pd.to_datetime(clean_city_data[\"Date\"][0],unit='s').strftime('%m/%d/%Y')\n",
    "\n",
    "plt.title(f'City Latitude vs Max Temperature {date}')\n",
    "\n",
    "#saving to png file \n",
    "plt.savefig('output_data/city_lat_maxtemp.png')\n",
    "plt.show()"
   ]
  },
  {
   "cell_type": "markdown",
   "metadata": {},
   "source": [
    "#### This figure shows the Max Temperature in Farenheit plotted by the Latitudes of the cities. There is a general negative trend between the two variables. "
   ]
  },
  {
   "cell_type": "markdown",
   "metadata": {},
   "source": [
    "## Latitude vs. Humidity Plot"
   ]
  },
  {
   "cell_type": "code",
   "execution_count": 13,
   "metadata": {
    "scrolled": true
   },
   "outputs": [
    {
     "data": {
      "image/png": "[encoded data removed]",
      "text/plain": [
       "<Figure size 432x288 with 1 Axes>"
      ]
     },
     "metadata": {
      "needs_background": "light"
     },
     "output_type": "display_data"
    }
   ],
   "source": [
    "# Create a Scatter Plot for humidity vs latitude\n",
    "y_values = clean_city_data['Humidity']\n",
    "plt.scatter(x_values,y_values,alpha=.7)\n",
    "plt.xlabel('Latitude')\n",
    "plt.ylabel(f'Humidity (%)')\n",
    "\n",
    "plt.title(f'City Latitude vs Humidity {date}')\n",
    "\n",
    "plt.savefig('output_data/city_lat_humidity.png')\n",
    "plt.show()"
   ]
  },
  {
   "cell_type": "markdown",
   "metadata": {},
   "source": [
    "#### This figure shows the Humidity plotted by the Latitudes of the cities. There is not much of a linear trend between the two variables. However, there is a cluster of higher humidity percentage at latitude ~60"
   ]
  },
  {
   "cell_type": "markdown",
   "metadata": {},
   "source": [
    "## Latitude vs. Cloudiness Plot"
   ]
  },
  {
   "cell_type": "code",
   "execution_count": 14,
   "metadata": {
    "scrolled": true
   },
   "outputs": [
    {
     "data": {
      "image/png": "[encoded data removed]",
      "text/plain": [
       "<Figure size 432x288 with 1 Axes>"
      ]
     },
     "metadata": {
      "needs_background": "light"
     },
     "output_type": "display_data"
    }
   ],
   "source": [
    "# Create a Scatter Plot for cloudiness vs latitude\n",
    "y_values = clean_city_data['Cloudiness']\n",
    "plt.scatter(x_values,y_values,alpha=.7)\n",
    "plt.xlabel('Latitude')\n",
    "plt.ylabel(f'Cloudiness (%)')\n",
    "\n",
    "plt.title(f'City Latitude vs Cloudiness {date}')\n",
    "\n",
    "plt.savefig('output_data/city_lat_cloudiness.png')\n",
    "plt.show()"
   ]
  },
  {
   "cell_type": "markdown",
   "metadata": {},
   "source": [
    "#### This figure shows the cloudiness plotted by the Latitudes of the cities. There is not much of a linear trend between the two variables. "
   ]
  },
  {
   "cell_type": "markdown",
   "metadata": {},
   "source": [
    "## Latitude vs. Wind Speed Plot"
   ]
  },
  {
   "cell_type": "code",
   "execution_count": 15,
   "metadata": {
    "scrolled": true
   },
   "outputs": [
    {
     "data": {
      "image/png": "[encoded data removed]",
      "text/plain": [
       "<Figure size 432x288 with 1 Axes>"
      ]
     },
     "metadata": {
      "needs_background": "light"
     },
     "output_type": "display_data"
    }
   ],
   "source": [
    "# Create a Scatter Plot for wind speed vs latitude\n",
    "y_values = clean_city_data['Wind Speed']\n",
    "plt.scatter(x_values,y_values,alpha=.7)\n",
    "plt.xlabel('Latitude')\n",
    "plt.ylabel(f'Wind Speed (mph)')\n",
    "\n",
    "plt.title(f'City Latitude vs Wind Speed {date}')\n",
    "\n",
    "plt.savefig('output_data/city_lat_windspeed.png')\n",
    "plt.show()"
   ]
  },
  {
   "cell_type": "markdown",
   "metadata": {},
   "source": [
    "#### This figure shows the windspeed plotted by the Latitudes of the cities. There is not much of a linear trend between the two variables. Across most latitudes, the windspeed remains below 30mph. There are some higher winds at latitude ~70."
   ]
  },
  {
   "cell_type": "markdown",
   "metadata": {},
   "source": [
    "## Linear Regression"
   ]
  },
  {
   "cell_type": "code",
   "execution_count": 16,
   "metadata": {},
   "outputs": [],
   "source": [
    "northdf=clean_city_data.loc[clean_city_data[\"Lat\"]>=0]\n",
    "southdf=clean_city_data.loc[clean_city_data[\"Lat\"]<0]"
   ]
  },
  {
   "cell_type": "markdown",
   "metadata": {},
   "source": [
    "####  Northern Hemisphere - Max Temp vs. Latitude Linear Regression"
   ]
  },
  {
   "cell_type": "code",
   "execution_count": 17,
   "metadata": {
    "scrolled": true
   },
   "outputs": [
    {
     "name": "stdout",
     "output_type": "stream",
     "text": [
      "The r value is -0.8507096643174044\n"
     ]
    },
    {
     "data": {
      "image/png": "[encoded data removed]",
      "text/plain": [
       "<Figure size 432x288 with 1 Axes>"
      ]
     },
     "metadata": {
      "needs_background": "light"
     },
     "output_type": "display_data"
    }
   ],
   "source": [
    "#set up coordinates for Northern Hemisphere\n",
    "northx=northdf[\"Lat\"]\n",
    "northy=northdf[\"Max Temp\"]\n",
    "\n",
    "#Set up linear regression items and equation for temperature\n",
    "slope,inte,r,p,std_err=linregress(northx,northy)\n",
    "northfit=slope*northx + inte\n",
    "\n",
    "#print r value\n",
    "print(f\"The r value is {r}\")\n",
    "\n",
    "#scatter plot with linear regression and annotation \n",
    "plt.scatter(northx,northy)\n",
    "plt.plot(northx,northfit,\"r-\")\n",
    "plt.xlabel('Latitude')\n",
    "plt.ylabel('Max Temp (F)')\n",
    "plt.title(f'Northern Hemisphere Latitude vs Max Temp Linear Regression')\n",
    "\n",
    "plt.annotate(f\"y={round(slope,2)}x+{round(inte,2)}\",(min(northx)+5,min(northy)+5),color=\"red\",fontsize=12)\n",
    "\n",
    "plt.savefig('output_data/north_lat_temp.png')\n",
    "\n",
    "plt.show()"
   ]
  },
  {
   "cell_type": "markdown",
   "metadata": {},
   "source": [
    "#### This figure shows the Max temperature in Farenheit by the Latitudes of the cities in the Northern Hemisphere. There is a negative linear regression with an r-value of -0.87 which indicates high negative correlation between the two variables. As Latitude increases, the Max Temperature decreases. "
   ]
  },
  {
   "cell_type": "markdown",
   "metadata": {},
   "source": [
    "####  Southern Hemisphere - Max Temp vs. Latitude Linear Regression"
   ]
  },
  {
   "cell_type": "code",
   "execution_count": 18,
   "metadata": {},
   "outputs": [
    {
     "name": "stdout",
     "output_type": "stream",
     "text": [
      "The r value is 0.5143784923040056\n"
     ]
    },
    {
     "data": {
      "image/png": "[encoded data removed]",
      "text/plain": [
       "<Figure size 432x288 with 1 Axes>"
      ]
     },
     "metadata": {
      "needs_background": "light"
     },
     "output_type": "display_data"
    }
   ],
   "source": [
    "#set up coordinates for Southern Hemisphere\n",
    "southx=southdf[\"Lat\"]\n",
    "southy=southdf[\"Max Temp\"]\n",
    "\n",
    "#Set up linear regression items and equation for temperature\n",
    "slope,inte,r,p,std_err=linregress(southx,southy)\n",
    "southfit=slope*southx + inte\n",
    "\n",
    "#print r value\n",
    "print(f\"The r value is {r}\")\n",
    "\n",
    "#scatter plot with linear regression and annotation \n",
    "plt.scatter(southx,southy)\n",
    "plt.plot(southx,southfit,\"r-\")\n",
    "plt.xlabel('Latitude')\n",
    "plt.ylabel('Max Temp (F)')\n",
    "plt.title(f'Southern Hemisphere Latitude vs Max Temp Linear Regression')\n",
    "\n",
    "plt.annotate(f\"y={round(slope,2)}x+{round(inte,2)}\",(min(southx)+5,min(southy)+5),color=\"red\",fontsize=12)\n",
    "\n",
    "plt.savefig('output_data/south_lat_temp.png')\n",
    "\n",
    "plt.show()"
   ]
  },
  {
   "cell_type": "markdown",
   "metadata": {},
   "source": [
    "#### This figure shows the Max temperature in Farenheit by the Latitudes of the cities in the Southern Hemisphere. There is a shallow linear regression with an r-value of 0.39 which indicates low positive correlation between the two variables."
   ]
  },
  {
   "cell_type": "markdown",
   "metadata": {},
   "source": [
    "####  Northern Hemisphere - Humidity (%) vs. Latitude Linear Regression"
   ]
  },
  {
   "cell_type": "code",
   "execution_count": 19,
   "metadata": {},
   "outputs": [
    {
     "name": "stdout",
     "output_type": "stream",
     "text": [
      "The r value is 0.4067469156494458\n"
     ]
    },
    {
     "data": {
      "image/png": "[encoded data removed]",
      "text/plain": [
       "<Figure size 432x288 with 1 Axes>"
      ]
     },
     "metadata": {
      "needs_background": "light"
     },
     "output_type": "display_data"
    }
   ],
   "source": [
    "#set up coordinates for Northern Hemisphere\n",
    "northy=northdf[\"Humidity\"]\n",
    "\n",
    "#Set up linear regression items and equation for humidity\n",
    "slope,inte,r,p,std_err=linregress(northx,northy)\n",
    "northfit=slope*northx + inte\n",
    "\n",
    "#print r value\n",
    "print(f\"The r value is {r}\")\n",
    "\n",
    "#scatter plot with linear regression and annotation \n",
    "plt.scatter(northx,northy)\n",
    "plt.plot(northx,northfit,\"r-\")\n",
    "plt.xlabel('Latitude')\n",
    "plt.ylabel('Humidity (%)')\n",
    "plt.title(f'Northern Hemisphere Latitude vs Humidity Linear Regression')\n",
    "\n",
    "plt.annotate(f\"y={round(slope,2)}x+{round(inte,2)}\",(min(northx)+5,min(northy)+5),color=\"red\",fontsize=12)\n",
    "\n",
    "plt.savefig('output_data/north_lat_hum.png')\n",
    "\n",
    "plt.show()"
   ]
  },
  {
   "cell_type": "markdown",
   "metadata": {},
   "source": [
    "#### This figure shows the Humidity by the Latitudes of the cities in the Northern Hemisphere. There is a shallow linear regression with an r-value of 0.43 which indicates low positive correlation between the two variables. However, there is a cluster of higher humidity at latitudes 60-70. "
   ]
  },
  {
   "cell_type": "markdown",
   "metadata": {},
   "source": [
    "####  Southern Hemisphere - Humidity (%) vs. Latitude Linear Regression"
   ]
  },
  {
   "cell_type": "code",
   "execution_count": 20,
   "metadata": {},
   "outputs": [
    {
     "name": "stdout",
     "output_type": "stream",
     "text": [
      "The r value is 0.12533157972540923\n"
     ]
    },
    {
     "data": {
      "image/png": "[encoded data removed]",
      "text/plain": [
       "<Figure size 432x288 with 1 Axes>"
      ]
     },
     "metadata": {
      "needs_background": "light"
     },
     "output_type": "display_data"
    }
   ],
   "source": [
    "#set up coordinates for Southern Hemisphere\n",
    "southy=southdf[\"Humidity\"]\n",
    "\n",
    "#Set up linear regression items and equation for Humidity\n",
    "slope,inte,r,p,std_err=linregress(southx,southy)\n",
    "southfit=slope*southx + inte\n",
    "\n",
    "#print r value\n",
    "print(f\"The r value is {r}\")\n",
    "\n",
    "#scatter plot with linear regression and annotation \n",
    "plt.scatter(southx,southy)\n",
    "plt.plot(southx,southfit,\"r-\")\n",
    "plt.xlabel('Latitude')\n",
    "plt.ylabel('Humidity (%)')\n",
    "plt.title(f'Southern Hemisphere Latitude vs Humidity Linear Regression')\n",
    "\n",
    "plt.annotate(f\"y={round(slope,2)}x+{round(inte,2)}\",(min(southx)+5,min(southy)+5),color=\"red\",fontsize=12)\n",
    "\n",
    "plt.savefig('output_data/south_lat_hum.png')\n",
    "\n",
    "plt.show()"
   ]
  },
  {
   "cell_type": "markdown",
   "metadata": {},
   "source": [
    "#### This figure shows the Humidity by the Latitudes of the cities in the Southern Hemisphere. There is a shallow linear regression with an r-value of 0.30 which indicates low positive correlation between the two variables. There are no significant relationships when visually analyzing the plot. "
   ]
  },
  {
   "cell_type": "markdown",
   "metadata": {},
   "source": [
    "####  Northern Hemisphere - Cloudiness (%) vs. Latitude Linear Regression"
   ]
  },
  {
   "cell_type": "code",
   "execution_count": 21,
   "metadata": {},
   "outputs": [
    {
     "name": "stdout",
     "output_type": "stream",
     "text": [
      "The r value is 0.3408378741120641\n"
     ]
    },
    {
     "data": {
      "image/png": "[encoded data removed]",
      "text/plain": [
       "<Figure size 432x288 with 1 Axes>"
      ]
     },
     "metadata": {
      "needs_background": "light"
     },
     "output_type": "display_data"
    }
   ],
   "source": [
    "#set up coordinates for Northern Hemisphere\n",
    "northy=northdf[\"Cloudiness\"]\n",
    "\n",
    "#Set up linear regression items and equation for cloudiness\n",
    "slope,inte,r,p,std_err=linregress(northx,northy)\n",
    "northfit=slope*northx + inte\n",
    "\n",
    "#print r value\n",
    "print(f\"The r value is {r}\")\n",
    "\n",
    "#scatter plot with linear regression and annotation \n",
    "plt.scatter(northx,northy)\n",
    "plt.plot(northx,northfit,\"r-\")\n",
    "plt.xlabel('Latitude')\n",
    "plt.ylabel('Cloudiness (%)')\n",
    "plt.title(f'Northern Hemisphere Latitude vs Cloudiness Linear Regression')\n",
    "\n",
    "plt.annotate(f\"y={round(slope,2)}x+{round(inte,2)}\",(min(northx)+5,min(northy)+5),color=\"red\",fontsize=12)\n",
    "\n",
    "plt.savefig('output_data/north_lat_cloud.png')\n",
    "\n",
    "plt.show()"
   ]
  },
  {
   "cell_type": "markdown",
   "metadata": {},
   "source": [
    "#### This figure shows the Cloudiness by the Latitudes of the cities in the Northern Hemisphere. There is no significant trend between the two variables with an r-value of 0.43 which indicates low positive correlation. There are no significant relationships when visually analyzing the plot. "
   ]
  },
  {
   "cell_type": "markdown",
   "metadata": {},
   "source": [
    "####  Southern Hemisphere - Cloudiness (%) vs. Latitude Linear Regression"
   ]
  },
  {
   "cell_type": "code",
   "execution_count": 22,
   "metadata": {},
   "outputs": [
    {
     "name": "stdout",
     "output_type": "stream",
     "text": [
      "The r value is 0.3342512169793048\n"
     ]
    },
    {
     "data": {
      "image/png": "[encoded data removed]",
      "text/plain": [
       "<Figure size 432x288 with 1 Axes>"
      ]
     },
     "metadata": {
      "needs_background": "light"
     },
     "output_type": "display_data"
    }
   ],
   "source": [
    "#set up coordinates for Southern Hemisphere\n",
    "southy=southdf[\"Cloudiness\"]\n",
    "\n",
    "#Set up linear regression items and equation for Cloudiness\n",
    "slope,inte,r,p,std_err=linregress(southx,southy)\n",
    "southfit=slope*southx + inte\n",
    "\n",
    "#print r value\n",
    "print(f\"The r value is {r}\")\n",
    "\n",
    "#scatter plot with linear regression and annotation \n",
    "plt.scatter(southx,southy)\n",
    "plt.plot(southx,southfit,\"r-\")\n",
    "plt.xlabel('Latitude')\n",
    "plt.ylabel('Cloudiness (%)')\n",
    "plt.title(f'Southern Hemisphere Latitude vs Cloudiness Linear Regression')\n",
    "\n",
    "plt.annotate(f\"y={round(slope,2)}x+{round(inte,2)}\",(min(southx)+5,min(southy)+5),color=\"red\",fontsize=12)\n",
    "\n",
    "plt.savefig('output_data/south_lat_cloud.png')\n",
    "\n",
    "plt.show()"
   ]
  },
  {
   "cell_type": "markdown",
   "metadata": {},
   "source": [
    "#### This figure shows the Cloudiness by the Latitudes of the cities in the Southern Hemisphere. There is no significant trend between the two variables with an r-value of 0.42 which indicates low positive correlation. There are no significant relationships when visually analyzing the plot. "
   ]
  },
  {
   "cell_type": "markdown",
   "metadata": {},
   "source": [
    "####  Northern Hemisphere - Wind Speed (mph) vs. Latitude Linear Regression"
   ]
  },
  {
   "cell_type": "code",
   "execution_count": 23,
   "metadata": {},
   "outputs": [
    {
     "name": "stdout",
     "output_type": "stream",
     "text": [
      "The r value is 0.12829134883212587\n"
     ]
    },
    {
     "data": {
      "image/png": "[encoded data removed]",
      "text/plain": [
       "<Figure size 432x288 with 1 Axes>"
      ]
     },
     "metadata": {
      "needs_background": "light"
     },
     "output_type": "display_data"
    }
   ],
   "source": [
    "#set up coordinates for Northern Hemisphere\n",
    "northy=northdf[\"Wind Speed\"]\n",
    "\n",
    "#Set up linear regression items and equation for wind speed\n",
    "slope,inte,r,p,std_err=linregress(northx,northy)\n",
    "northfit=slope*northx + inte\n",
    "\n",
    "#print r value\n",
    "print(f\"The r value is {r}\")\n",
    "\n",
    "#scatter plot with linear regression and annotation \n",
    "plt.scatter(northx,northy)\n",
    "plt.plot(northx,northfit,\"r-\")\n",
    "plt.xlabel('Latitude')\n",
    "plt.ylabel('Wind Speed (mph)')\n",
    "plt.title(f'Northern Hemisphere Latitude vs Wind Speed Linear Regression')\n",
    "\n",
    "plt.annotate(f\"y={round(slope,2)}x+{round(inte,2)}\",(min(northx)+5,min(northy)+5),color=\"red\",fontsize=12)\n",
    "\n",
    "plt.savefig('output_data/north_lat_wind.png')\n",
    "\n",
    "plt.show()"
   ]
  },
  {
   "cell_type": "markdown",
   "metadata": {},
   "source": [
    "#### This figure shows the Windspeed by the Latitudes of the cities in the Northern Hemisphere. There is no significant trend between the two variables with an r-value of 0.1 which indicates very low positive correlation. There are no significant relationships when visually analyzing the plot. However, most cities across the latitudes reported Wind Speed less than ~30mph with the exception of a few higher windspeeds at latitudes 60-70"
   ]
  },
  {
   "cell_type": "markdown",
   "metadata": {},
   "source": [
    "####  Southern Hemisphere - Wind Speed (mph) vs. Latitude Linear Regression"
   ]
  },
  {
   "cell_type": "code",
   "execution_count": 24,
   "metadata": {},
   "outputs": [
    {
     "name": "stdout",
     "output_type": "stream",
     "text": [
      "The r value is -0.2759934919738785\n"
     ]
    },
    {
     "data": {
      "image/png": "[encoded data removed]",
      "text/plain": [
       "<Figure size 432x288 with 1 Axes>"
      ]
     },
     "metadata": {
      "needs_background": "light"
     },
     "output_type": "display_data"
    }
   ],
   "source": [
    "#set up coordinates for Southern Hemisphere\n",
    "southy=southdf[\"Wind Speed\"]\n",
    "\n",
    "#Set up linear regression items and equation for wind speed\n",
    "slope,inte,r,p,std_err=linregress(southx,southy)\n",
    "southfit=slope*southx + inte\n",
    "\n",
    "#print r value\n",
    "print(f\"The r value is {r}\")\n",
    "\n",
    "#scatter plot with linear regression and annotation \n",
    "plt.scatter(southx,southy)\n",
    "plt.plot(southx,southfit,\"r-\")\n",
    "plt.xlabel('Latitude')\n",
    "plt.ylabel('Wind Speed (mph)')\n",
    "plt.title(f'Southern Hemisphere Latitude vs Wind Speed Linear Regression')\n",
    "\n",
    "plt.annotate(f\"y={round(slope,2)}x+{round(inte,2)}\",(min(southx)+5,min(southy)+5),color=\"red\",fontsize=12)\n",
    "\n",
    "plt.savefig('output_data/south_lat_wind.png')\n",
    "\n",
    "plt.show()"
   ]
  },
  {
   "cell_type": "markdown",
   "metadata": {},
   "source": [
    "#### This figure shows the Windspeed by the Latitudes of the cities in the Southern Hemisphere. There is no significant trend between the two variables with an r-value of -0.16 which indicates very low negative correlation. There are no significant relationships when visually analyzing the plot. "
   ]
  },
  {
   "cell_type": "markdown",
   "metadata": {},
   "source": [
    "## 3 Observable Trends \n",
    "\n",
    "1. the northern hemisphere has a strong correlation between Max Temp and Latitude, as shown by the r value -0.85. This makes sense based on the time of year and normal weather patterns. \n",
    "2. the northern hemisphere, although has a weaker correlation between latitude and humidity, shows a cluster at the 60-70 latitude line of higher humidity. \n",
    "3. cloudiness shows similar lack of trend between the northern and southern hemisphere. It would be difficult to assume any predictions based on latitude alone. "
   ]
  }
 ],
 "metadata": {
  "anaconda-cloud": {},
  "kernel_info": {
   "name": "python3"
  },
  "kernelspec": {
   "display_name": "Python [conda env:pythondata] *",
   "language": "python",
   "name": "conda-env-pythondata-py"
  },
  "language_info": {
   "codemirror_mode": {
    "name": "ipython",
    "version": 3
   },
   "file_extension": ".py",
   "mimetype": "text/x-python",
   "name": "python",
   "nbconvert_exporter": "python",
   "pygments_lexer": "ipython3",
   "version": "3.6.10"
  },
  "latex_envs": {
   "LaTeX_envs_menu_present": true,
   "autoclose": false,
   "autocomplete": true,
   "bibliofile": "biblio.bib",
   "cite_by": "apalike",
   "current_citInitial": 1,
   "eqLabelWithNumbers": true,
   "eqNumInitial": 1,
   "hotkeys": {
    "equation": "Ctrl-E",
    "itemize": "Ctrl-I"
   },
   "labels_anchors": false,
   "latex_user_defs": false,
   "report_style_numbering": false,
   "user_envs_cfg": false
  },
  "nteract": {
   "version": "0.12.3"
  }
 },
 "nbformat": 4,
 "nbformat_minor": 2
}
